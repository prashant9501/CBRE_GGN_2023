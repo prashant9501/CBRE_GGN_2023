{
 "cells": [
  {
   "cell_type": "code",
   "execution_count": 2,
   "id": "2e6ba631",
   "metadata": {},
   "outputs": [],
   "source": [
    "import numpy as np"
   ]
  },
  {
   "cell_type": "code",
   "execution_count": 41,
   "id": "ae9a5676",
   "metadata": {},
   "outputs": [
    {
     "data": {
      "text/plain": [
       "(19.916139213280452, 5.2318301664727)"
      ]
     },
     "execution_count": 41,
     "metadata": {},
     "output_type": "execute_result"
    }
   ],
   "source": [
    "np.random.seed(100)\n",
    "x = 20 + 5*np.random.randn(1000)\n",
    "x.mean(), x.std( ddof=1)"
   ]
  },
  {
   "cell_type": "code",
   "execution_count": 40,
   "id": "a22943a4",
   "metadata": {},
   "outputs": [
    {
     "data": {
      "text/plain": [
       "array([11.25117263, 21.71340202, 25.76517901, 18.73781982, 24.90660393])"
      ]
     },
     "execution_count": 40,
     "metadata": {},
     "output_type": "execute_result"
    }
   ],
   "source": [
    "x[:5]"
   ]
  },
  {
   "cell_type": "code",
   "execution_count": 36,
   "id": "f2ae8c80",
   "metadata": {},
   "outputs": [
    {
     "data": {
      "text/html": [
       "<div>\n",
       "<style scoped>\n",
       "    .dataframe tbody tr th:only-of-type {\n",
       "        vertical-align: middle;\n",
       "    }\n",
       "\n",
       "    .dataframe tbody tr th {\n",
       "        vertical-align: top;\n",
       "    }\n",
       "\n",
       "    .dataframe thead th {\n",
       "        text-align: right;\n",
       "    }\n",
       "</style>\n",
       "<table border=\"1\" class=\"dataframe\">\n",
       "  <thead>\n",
       "    <tr style=\"text-align: right;\">\n",
       "      <th></th>\n",
       "      <th>0</th>\n",
       "    </tr>\n",
       "  </thead>\n",
       "  <tbody>\n",
       "    <tr>\n",
       "      <th>0</th>\n",
       "      <td>11.251173</td>\n",
       "    </tr>\n",
       "    <tr>\n",
       "      <th>1</th>\n",
       "      <td>21.713402</td>\n",
       "    </tr>\n",
       "    <tr>\n",
       "      <th>2</th>\n",
       "      <td>25.765179</td>\n",
       "    </tr>\n",
       "    <tr>\n",
       "      <th>3</th>\n",
       "      <td>18.737820</td>\n",
       "    </tr>\n",
       "    <tr>\n",
       "      <th>4</th>\n",
       "      <td>24.906604</td>\n",
       "    </tr>\n",
       "  </tbody>\n",
       "</table>\n",
       "</div>"
      ],
      "text/plain": [
       "           0\n",
       "0  11.251173\n",
       "1  21.713402\n",
       "2  25.765179\n",
       "3  18.737820\n",
       "4  24.906604"
      ]
     },
     "execution_count": 36,
     "metadata": {},
     "output_type": "execute_result"
    }
   ],
   "source": [
    "import pandas as pd\n",
    "df = pd.DataFrame(x)\n",
    "df.head()"
   ]
  },
  {
   "cell_type": "code",
   "execution_count": 39,
   "id": "d2b594a2",
   "metadata": {},
   "outputs": [
    {
     "data": {
      "text/plain": [
       "(0    19.916139\n",
       " dtype: float64,\n",
       " 0    5.23183\n",
       " dtype: float64)"
      ]
     },
     "execution_count": 39,
     "metadata": {},
     "output_type": "execute_result"
    }
   ],
   "source": [
    "df.mean(), df.std()"
   ]
  },
  {
   "cell_type": "code",
   "execution_count": 45,
   "id": "b5df28c7",
   "metadata": {},
   "outputs": [],
   "source": [
    "n = 100\n",
    "sample1 = df.sample(n)"
   ]
  },
  {
   "cell_type": "code",
   "execution_count": 46,
   "id": "11589c35",
   "metadata": {},
   "outputs": [
    {
     "data": {
      "text/plain": [
       "0    19.082988\n",
       "dtype: float64"
      ]
     },
     "execution_count": 46,
     "metadata": {},
     "output_type": "execute_result"
    }
   ],
   "source": [
    "sample1.mean()   # x-bar"
   ]
  },
  {
   "cell_type": "code",
   "execution_count": 47,
   "id": "88921745",
   "metadata": {},
   "outputs": [
    {
     "data": {
      "text/plain": [
       "-1.9599639845400545"
      ]
     },
     "execution_count": 47,
     "metadata": {},
     "output_type": "execute_result"
    }
   ],
   "source": [
    "from scipy.stats import norm\n",
    "alpha = 0.05\n",
    "norm.ppf(alpha/2)"
   ]
  },
  {
   "cell_type": "code",
   "execution_count": 49,
   "id": "45dba13b",
   "metadata": {},
   "outputs": [
    {
     "data": {
      "text/plain": [
       "1.9599639845400545"
      ]
     },
     "execution_count": 49,
     "metadata": {},
     "output_type": "execute_result"
    }
   ],
   "source": [
    "norm.isf(alpha/2)"
   ]
  },
  {
   "cell_type": "code",
   "execution_count": 50,
   "id": "ef8ace92",
   "metadata": {},
   "outputs": [
    {
     "data": {
      "text/plain": [
       "0.5229213597083499"
      ]
     },
     "execution_count": 50,
     "metadata": {},
     "output_type": "execute_result"
    }
   ],
   "source": [
    "SE = x.std()/np.sqrt(n)\n",
    "SE"
   ]
  },
  {
   "cell_type": "code",
   "execution_count": 52,
   "id": "ea20dfd9",
   "metadata": {},
   "outputs": [
    {
     "data": {
      "text/plain": [
       "(0    18.058081\n",
       " dtype: float64,\n",
       " 0    20.107895\n",
       " dtype: float64)"
      ]
     },
     "execution_count": 52,
     "metadata": {},
     "output_type": "execute_result"
    }
   ],
   "source": [
    "sample1.mean() - norm.isf(alpha/2)*SE, sample1.mean() + norm.isf(alpha/2)*SE"
   ]
  },
  {
   "cell_type": "code",
   "execution_count": null,
   "id": "44b336c6",
   "metadata": {},
   "outputs": [],
   "source": []
  },
  {
   "cell_type": "code",
   "execution_count": null,
   "id": "73ad9117",
   "metadata": {},
   "outputs": [],
   "source": []
  },
  {
   "cell_type": "code",
   "execution_count": null,
   "id": "8131451a",
   "metadata": {},
   "outputs": [],
   "source": []
  }
 ],
 "metadata": {
  "kernelspec": {
   "display_name": "Python 3 (ipykernel)",
   "language": "python",
   "name": "python3"
  },
  "language_info": {
   "codemirror_mode": {
    "name": "ipython",
    "version": 3
   },
   "file_extension": ".py",
   "mimetype": "text/x-python",
   "name": "python",
   "nbconvert_exporter": "python",
   "pygments_lexer": "ipython3",
   "version": "3.10.9"
  }
 },
 "nbformat": 4,
 "nbformat_minor": 5
}
